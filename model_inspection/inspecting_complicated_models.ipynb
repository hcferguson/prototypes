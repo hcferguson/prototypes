{
 "cells": [
  {
   "cell_type": "markdown",
   "metadata": {},
   "source": [
    "# Inspecting complicated models\n",
    "\n",
    "When models get complicated, inspecting the parameters and their relationships gets a bit clunky. This notebook offers a couple of prototypes to address this:\n",
    "\n",
    " - A LinearTied class that provides a handy repr showing the linear relationship. \n",
    "   - This lets `model.tied` show the relationship rather than just a pointer to a user-defined function\n",
    "   - A timing test shows no significant performance hit for this convenience\n",
    " - A `tabulate_model` function to show the results and the constraints in tabular form by putting them in an astropy table. \n",
    " \n",
    "This is illustrated using the example from the 'Tied Constraints' section of the latest documentation https://docs.astropy.org/en/latest/modeling/example-fitting-constraints.html.  "
   ]
  },
  {
   "cell_type": "code",
   "execution_count": 1,
   "metadata": {},
   "outputs": [],
   "source": [
    "import numpy as np\n",
    "from astropy.table import Table\n",
    "import matplotlib.pyplot as plt\n",
    "from astropy.utils.data import get_pkg_data_filename\n",
    "from astropy.io import ascii\n",
    "from astropy.modeling import models, fitting"
   ]
  },
  {
   "cell_type": "code",
   "execution_count": 2,
   "metadata": {},
   "outputs": [],
   "source": [
    "%matplotlib inline"
   ]
  },
  {
   "cell_type": "markdown",
   "metadata": {},
   "source": [
    "Get the data."
   ]
  },
  {
   "cell_type": "code",
   "execution_count": 3,
   "metadata": {},
   "outputs": [],
   "source": [
    "#fname = get_pkg_data_filename('data/spec.txt', package='astropy.modeling.tests')\n",
    "fname=('spec.txt')\n",
    "spec = ascii.read(fname)\n",
    "wave = spec['lambda']\n",
    "flux = spec['flux']"
   ]
  },
  {
   "cell_type": "markdown",
   "metadata": {},
   "source": [
    "## Class to create a linear relationship between to a parameter"
   ]
  },
  {
   "cell_type": "code",
   "execution_count": 4,
   "metadata": {},
   "outputs": [],
   "source": [
    "class LinearTied(object):\n",
    "    \"\"\" Tie two variables associated by a linear relation:\n",
    "           derived_param = factor * param + offset\n",
    "        \n",
    "        Parameters\n",
    "        ----------\n",
    "        model : Astropy.modeling FittableModel instance\n",
    "            The model\n",
    "        param : string\n",
    "            The name of the first parameter\n",
    "        factor : float64\n",
    "            The multiplicative factor to apply\n",
    "        offset : float64\n",
    "            The additive offset to apply\n",
    "    \"\"\"\n",
    "    def __init__(self, model,param,factor=1.,offset=0.,fmt=\".3g\"):\n",
    "        self.param_name = param\n",
    "        idx = model.param_names.index(param)\n",
    "        self.param = model.parameters[idx]\n",
    "        self.factor = factor\n",
    "        self.offset = offset\n",
    "        factor_fstring = \"\" if factor == 1. else f\"{self.factor:{fmt}} * \"\n",
    "        offset_fstring = \"\" if offset == 0. else f\" + {self.offset:{fmt}}\"\n",
    "        self.output_string = factor_fstring + f\"{self.param_name}\" + offset_fstring\n",
    "    def __call__(self,model):\n",
    "        return self.param*self.factor+self.offset\n",
    "    def __repr__(self):\n",
    "            return self.output_string"
   ]
  },
  {
   "cell_type": "markdown",
   "metadata": {},
   "source": [
    "Use the rest wavelengths of known lines as initial values for the fit."
   ]
  },
  {
   "cell_type": "code",
   "execution_count": 5,
   "metadata": {},
   "outputs": [],
   "source": [
    "Hbeta = 4862.721\n",
    "OIII_1 = 4958.911\n",
    "OIII_2 = 5008.239"
   ]
  },
  {
   "cell_type": "markdown",
   "metadata": {},
   "source": [
    "Create Gaussian1D models for each of the Hbeta and OIII lines."
   ]
  },
  {
   "cell_type": "code",
   "execution_count": 6,
   "metadata": {},
   "outputs": [],
   "source": [
    "h_beta = models.Gaussian1D(amplitude=34, mean=Hbeta, stddev=5,name='Hbeta')\n",
    "o3_2 = models.Gaussian1D(amplitude=170, mean=OIII_2, stddev=5,name='[OIII]4959')\n",
    "o3_1 = models.Gaussian1D(amplitude=57, mean=OIII_1, stddev=5,name='[OIII]5007')"
   ]
  },
  {
   "cell_type": "markdown",
   "metadata": {},
   "source": [
    "Tie the ratio of the intensity of the two OIII lines."
   ]
  },
  {
   "cell_type": "code",
   "execution_count": 7,
   "metadata": {},
   "outputs": [],
   "source": [
    "def tie_ampl(model):\n",
    "    return model.amplitude_2 / 3.1\n",
    "\n",
    "o3_1.amplitude.tied = tie_ampl"
   ]
  },
  {
   "cell_type": "markdown",
   "metadata": {},
   "source": [
    "Also tie the wavelength of the Hbeta line to the OIII wavelength."
   ]
  },
  {
   "cell_type": "code",
   "execution_count": 8,
   "metadata": {},
   "outputs": [],
   "source": [
    "def tie_wave(model):\n",
    "    return model.mean_0 * OIII_1 / Hbeta\n",
    "\n",
    "o3_1.mean.tied = tie_wave"
   ]
  },
  {
   "cell_type": "markdown",
   "metadata": {},
   "source": [
    "Create a Polynomial model to fit the continuum."
   ]
  },
  {
   "cell_type": "code",
   "execution_count": 9,
   "metadata": {},
   "outputs": [],
   "source": [
    "mean_flux = flux.mean()\n",
    "cont = np.where(flux > mean_flux, mean_flux, flux)\n",
    "linfitter = fitting.LinearLSQFitter()\n",
    "poly_cont = linfitter(models.Polynomial1D(1,name='continuum'), wave, cont)"
   ]
  },
  {
   "cell_type": "markdown",
   "metadata": {},
   "source": [
    "Create a compound model for the three lines and the continuum."
   ]
  },
  {
   "cell_type": "code",
   "execution_count": 10,
   "metadata": {},
   "outputs": [],
   "source": [
    "hbeta_combo = h_beta + o3_1 + o3_2 + poly_cont"
   ]
  },
  {
   "cell_type": "markdown",
   "metadata": {},
   "source": [
    "Inspect the tied parameters. The information on how the parameters are tied together is buried."
   ]
  },
  {
   "cell_type": "code",
   "execution_count": 11,
   "metadata": {},
   "outputs": [
    {
     "data": {
      "text/plain": [
       "{'amplitude_0': False,\n",
       " 'mean_0': False,\n",
       " 'stddev_0': False,\n",
       " 'amplitude_1': <function __main__.tie_ampl(model)>,\n",
       " 'mean_1': <function __main__.tie_wave(model)>,\n",
       " 'stddev_1': False,\n",
       " 'amplitude_2': False,\n",
       " 'mean_2': False,\n",
       " 'stddev_2': False,\n",
       " 'c0_3': False,\n",
       " 'c1_3': False}"
      ]
     },
     "execution_count": 11,
     "metadata": {},
     "output_type": "execute_result"
    }
   ],
   "source": [
    "hbeta_combo.tied"
   ]
  },
  {
   "cell_type": "markdown",
   "metadata": {},
   "source": [
    "Tie them with the `LinearTied` class."
   ]
  },
  {
   "cell_type": "code",
   "execution_count": 12,
   "metadata": {},
   "outputs": [],
   "source": [
    "hbeta_combo.amplitude_1.tied = LinearTied(hbeta_combo,'amplitude_2',factor=1./3.1)\n",
    "hbeta_combo.mean_1.tied = LinearTied(hbeta_combo,'mean_0',factor=OIII_1 / Hbeta)"
   ]
  },
  {
   "cell_type": "markdown",
   "metadata": {},
   "source": [
    "Inspect the tied parameters. The relationship is now visible."
   ]
  },
  {
   "cell_type": "code",
   "execution_count": 13,
   "metadata": {},
   "outputs": [
    {
     "data": {
      "text/plain": [
       "{'amplitude_0': False,\n",
       " 'mean_0': False,\n",
       " 'stddev_0': False,\n",
       " 'amplitude_1': 0.323 * amplitude_2,\n",
       " 'mean_1': 1.02 * mean_0,\n",
       " 'stddev_1': False,\n",
       " 'amplitude_2': False,\n",
       " 'mean_2': False,\n",
       " 'stddev_2': False,\n",
       " 'c0_3': False,\n",
       " 'c1_3': False}"
      ]
     },
     "execution_count": 13,
     "metadata": {},
     "output_type": "execute_result"
    }
   ],
   "source": [
    "hbeta_combo.tied"
   ]
  },
  {
   "cell_type": "markdown",
   "metadata": {},
   "source": [
    "Fit all lines simultaneously."
   ]
  },
  {
   "cell_type": "code",
   "execution_count": 14,
   "metadata": {},
   "outputs": [
    {
     "name": "stderr",
     "output_type": "stream",
     "text": [
      "WARNING: The fit may be unsuccessful; check fit_info['message'] for more information. [astropy.modeling.fitting]\n"
     ]
    }
   ],
   "source": [
    "fitter = fitting.LevMarLSQFitter()\n",
    "fitted_model = fitter(hbeta_combo, wave, flux)\n",
    "fitted_lines = fitted_model(wave)"
   ]
  },
  {
   "cell_type": "markdown",
   "metadata": {},
   "source": [
    "Plot the results"
   ]
  },
  {
   "cell_type": "code",
   "execution_count": 15,
   "metadata": {},
   "outputs": [
    {
     "data": {
      "image/png": "[encoded data removed]",
      "text/plain": [
       "<Figure size 648x432 with 1 Axes>"
      ]
     },
     "metadata": {
      "needs_background": "light"
     },
     "output_type": "display_data"
    }
   ],
   "source": [
    "fig = plt.figure(figsize=(9, 6))\n",
    "p = plt.plot(wave, flux, label=\"data\")\n",
    "p = plt.plot(wave, fitted_lines, 'r', label=\"fit\")\n",
    "p = plt.legend()\n",
    "p = plt.xlabel(\"Wavelength\")\n",
    "p = plt.ylabel(\"Flux\")\n",
    "t = plt.text(4800, 70, 'Hbeta', rotation=90)\n",
    "t = plt.text(4900, 100, 'OIII_1', rotation=90)\n",
    "t = plt.text(4950, 180, 'OIII_2', rotation=90)"
   ]
  },
  {
   "cell_type": "code",
   "execution_count": 16,
   "metadata": {},
   "outputs": [],
   "source": [
    "def tabulate_model(model):\n",
    "    column_names = ['parameter','submodel','class','subparam','value',\n",
    "                    'fixed?','lower','upper','tie']\n",
    "    parameter = model.param_names\n",
    "    submodelnumber = [model._param_map[p][0] for p in parameter]\n",
    "    submodelname = np.array(model.submodel_names)[submodelnumber]\n",
    "    smclass = [model._get_submodels()[i] for i in submodelnumber]\n",
    "    submodelclass = [sm.__class__.__name__ for sm in smclass]\n",
    "    subparam = [model._param_map[p][1] for p in parameter]\n",
    "    value = fitted_model.parameters\n",
    "    fixed = [fitted_model.fixed[p] for p in parameter]\n",
    "    lower = [fitted_model.bounds[p][0] for p in parameter]\n",
    "    upper = [fitted_model.bounds[p][1] for p in parameter]\n",
    "    tied = [fitted_model.tied[p] for p in parameter]\n",
    "    t = Table([parameter,submodelname,submodelclass,subparam,value,\n",
    "               fixed,lower,upper,tied],names=column_names)\n",
    "    return t"
   ]
  },
  {
   "cell_type": "code",
   "execution_count": 17,
   "metadata": {},
   "outputs": [
    {
     "data": {
      "text/html": [
       "<i>Table length=11</i>\n",
       "<table id=\"table4719110464\" class=\"table-striped table-bordered table-condensed\">\n",
       "<thead><tr><th>parameter</th><th>submodel</th><th>class</th><th>subparam</th><th>value</th><th>fixed?</th><th>lower</th><th>upper</th><th>tie</th></tr></thead>\n",
       "<thead><tr><th>str11</th><th>str10</th><th>str12</th><th>str9</th><th>float64</th><th>bool</th><th>object</th><th>object</th><th>object</th></tr></thead>\n",
       "<tr><td>amplitude_0</td><td>Hbeta</td><td>Gaussian1D</td><td>amplitude</td><td>18.594550385482794</td><td>False</td><td>None</td><td>None</td><td>False</td></tr>\n",
       "<tr><td>mean_0</td><td>Hbeta</td><td>Gaussian1D</td><td>mean</td><td>4867.310072331513</td><td>False</td><td>None</td><td>None</td><td>False</td></tr>\n",
       "<tr><td>stddev_0</td><td>Hbeta</td><td>Gaussian1D</td><td>stddev</td><td>25.282296877948678</td><td>False</td><td>1.1754943508222875e-38</td><td>None</td><td>False</td></tr>\n",
       "<tr><td>amplitude_1</td><td>[OIII]5007</td><td>Gaussian1D</td><td>amplitude</td><td>54.83870967741935</td><td>False</td><td>None</td><td>None</td><td>0.323 * amplitude_2</td></tr>\n",
       "<tr><td>mean_1</td><td>[OIII]5007</td><td>Gaussian1D</td><td>mean</td><td>4958.911</td><td>False</td><td>None</td><td>None</td><td>1.02 * mean_0</td></tr>\n",
       "<tr><td>stddev_1</td><td>[OIII]5007</td><td>Gaussian1D</td><td>stddev</td><td>2.7057123406280716</td><td>False</td><td>1.1754943508222875e-38</td><td>None</td><td>False</td></tr>\n",
       "<tr><td>amplitude_2</td><td>[OIII]4959</td><td>Gaussian1D</td><td>amplitude</td><td>172.06914525664476</td><td>False</td><td>None</td><td>None</td><td>False</td></tr>\n",
       "<tr><td>mean_2</td><td>[OIII]4959</td><td>Gaussian1D</td><td>mean</td><td>5009.0248595102</td><td>False</td><td>None</td><td>None</td><td>False</td></tr>\n",
       "<tr><td>stddev_2</td><td>[OIII]4959</td><td>Gaussian1D</td><td>stddev</td><td>2.0058422376807776</td><td>False</td><td>1.1754943508222875e-38</td><td>None</td><td>False</td></tr>\n",
       "<tr><td>c0_3</td><td>continuum</td><td>Polynomial1D</td><td>c0</td><td>1.308515344573007</td><td>False</td><td>None</td><td>None</td><td>False</td></tr>\n",
       "<tr><td>c1_3</td><td>continuum</td><td>Polynomial1D</td><td>c1</td><td>-0.0002288654923767863</td><td>False</td><td>None</td><td>None</td><td>False</td></tr>\n",
       "</table>"
      ],
      "text/plain": [
       "<Table length=11>\n",
       " parameter   submodel     class     ... upper          tie        \n",
       "   str11      str10       str12     ... object        object      \n",
       "----------- ---------- ------------ ... ------ -------------------\n",
       "amplitude_0      Hbeta   Gaussian1D ...   None               False\n",
       "     mean_0      Hbeta   Gaussian1D ...   None               False\n",
       "   stddev_0      Hbeta   Gaussian1D ...   None               False\n",
       "amplitude_1 [OIII]5007   Gaussian1D ...   None 0.323 * amplitude_2\n",
       "     mean_1 [OIII]5007   Gaussian1D ...   None       1.02 * mean_0\n",
       "   stddev_1 [OIII]5007   Gaussian1D ...   None               False\n",
       "amplitude_2 [OIII]4959   Gaussian1D ...   None               False\n",
       "     mean_2 [OIII]4959   Gaussian1D ...   None               False\n",
       "   stddev_2 [OIII]4959   Gaussian1D ...   None               False\n",
       "       c0_3  continuum Polynomial1D ...   None               False\n",
       "       c1_3  continuum Polynomial1D ...   None               False"
      ]
     },
     "execution_count": 17,
     "metadata": {},
     "output_type": "execute_result"
    }
   ],
   "source": [
    "tabulate_model(fitted_model)"
   ]
  },
  {
   "cell_type": "markdown",
   "metadata": {},
   "source": [
    "## Timing test\n",
    "\n",
    "Revert to original defintion (ties are custom functions) and time the fitting"
   ]
  },
  {
   "cell_type": "code",
   "execution_count": 18,
   "metadata": {},
   "outputs": [],
   "source": [
    "hbeta_combo = h_beta + o3_1 + o3_2 + poly_cont"
   ]
  },
  {
   "cell_type": "code",
   "execution_count": 19,
   "metadata": {},
   "outputs": [
    {
     "name": "stdout",
     "output_type": "stream",
     "text": [
      "105 ms ± 4.04 ms per loop (mean ± std. dev. of 7 runs, 10 loops each)\n"
     ]
    }
   ],
   "source": [
    "%%timeit\n",
    "fitted_model = fitter(hbeta_combo, wave, flux)"
   ]
  },
  {
   "cell_type": "code",
   "execution_count": 20,
   "metadata": {},
   "outputs": [],
   "source": [
    "hbeta_combo.amplitude_1.tied = LinearTied(hbeta_combo,'amplitude_2',1./3.1)\n",
    "hbeta_combo.mean_1.tied = LinearTied(hbeta_combo,'mean_0',OIII_1 / Hbeta)"
   ]
  },
  {
   "cell_type": "code",
   "execution_count": 21,
   "metadata": {},
   "outputs": [
    {
     "name": "stdout",
     "output_type": "stream",
     "text": [
      "97.7 ms ± 776 µs per loop (mean ± std. dev. of 7 runs, 10 loops each)\n"
     ]
    }
   ],
   "source": [
    "%%timeit\n",
    "fitted_model = fitter(hbeta_combo, wave, flux)"
   ]
  }
 ],
 "metadata": {
  "kernelspec": {
   "display_name": "Python 3",
   "language": "python",
   "name": "python3"
  },
  "language_info": {
   "codemirror_mode": {
    "name": "ipython",
    "version": 3
   },
   "file_extension": ".py",
   "mimetype": "text/x-python",
   "name": "python",
   "nbconvert_exporter": "python",
   "pygments_lexer": "ipython3",
   "version": "3.7.3"
  }
 },
 "nbformat": 4,
 "nbformat_minor": 2
}
